{
 "cells": [
  {
   "cell_type": "code",
   "execution_count": 124,
   "metadata": {},
   "outputs": [
    {
     "output_type": "stream",
     "name": "stdout",
     "text": "Prime numbers between 1 and 100 are:\n[2, 3, 5, 7, 11, 13, 17, 19, 23, 29, 31, 37, 41, 43, 47, 53, 59, 61, 67, 71, 73, 79, 83, 89, 97]\n"
    }
   ],
   "source": [
    "num = input(\"This program gives you the prime numbers between 1 to your entered limit number\\nPlease enter a positive integer number: \")\n",
    "\n",
    "while not num.isdigit():\n",
    "  print (\"Do not use any entries other than numeric values\")\n",
    "  num = input (\"Please enter a positive integer number: \")\n",
    "\n",
    "while int(num) < 1:\n",
    "  print (\"Not a positive number\")\n",
    "  num = input (\"Please enter a positive integer number: \")\n",
    "\n",
    "a = int(num)\n",
    "prime = []\n",
    "\n",
    "if a < 11:\n",
    "    if a < 2:\n",
    "        prime = []\n",
    "    elif a < 3:\n",
    "        prime = [2]\n",
    "    elif a < 5:\n",
    "        prime = [2, 3]\n",
    "    elif a < 7:\n",
    "        prime = [2, 3, 5]\n",
    "    else:\n",
    "        prime = [2, 3, 5, 7]\n",
    "\n",
    "else:\n",
    "    prime = [2, 3, 5, 7, 11]\n",
    "    for i in range (11, a):\n",
    "        if ((i % 2 != 0) and (i % 3 != 0) and (i % 5 != 0) and (i % 7 != 0) and (i != 11)):\n",
    "            prime.append(i)\n",
    "\n",
    "print(f\"Prime numbers between 1 and {a} are:\\n{prime}\")"
   ]
  },
  {
   "cell_type": "code",
   "execution_count": null,
   "metadata": {},
   "outputs": [],
   "source": []
  }
 ],
 "metadata": {
  "language_info": {
   "codemirror_mode": {
    "name": "ipython",
    "version": 3
   },
   "file_extension": ".py",
   "mimetype": "text/x-python",
   "name": "python",
   "nbconvert_exporter": "python",
   "pygments_lexer": "ipython3",
   "version": "3.8.2-final"
  },
  "orig_nbformat": 2,
  "kernelspec": {
   "name": "python38232bit364b4b707243467daa270c430cdfae63",
   "display_name": "Python 3.8.2 32-bit"
  }
 },
 "nbformat": 4,
 "nbformat_minor": 2
}